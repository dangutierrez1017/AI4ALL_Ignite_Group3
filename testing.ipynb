{
  "nbformat": 4,
  "nbformat_minor": 0,
  "metadata": {
    "colab": {
      "provenance": [],
      "authorship_tag": "ABX9TyPgMHKCJPHtFIycSS7PBLNo"
    },
    "kernelspec": {
      "name": "python3",
      "display_name": "Python 3"
    },
    "language_info": {
      "name": "python"
    }
  },
  "cells": [
    {
      "cell_type": "code",
      "source": [
        "print(\"Edit 1\")"
      ],
      "metadata": {
        "id": "fCAkKwYo43th"
      },
      "execution_count": null,
      "outputs": []
    },
    {
      "cell_type": "code",
      "execution_count": null,
      "metadata": {
        "id": "09GFHxS04RhF"
      },
      "outputs": [],
      "source": [
        "print(\"Hello, United States!\")"
      ]
    }
  ]
}
